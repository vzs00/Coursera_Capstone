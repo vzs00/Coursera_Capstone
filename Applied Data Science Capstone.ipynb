{
 "cells": [
  {
   "cell_type": "markdown",
   "id": "annoying-taste",
   "metadata": {},
   "source": [
    "### Applied Data Science Capstone\n",
    "This notebook it will be used for the capstone project.  "
   ]
  },
  {
   "cell_type": "code",
   "execution_count": 1,
   "id": "composed-lying",
   "metadata": {
    "execution": {
     "iopub.execute_input": "2021-06-27T04:44:47.558282Z",
     "iopub.status.busy": "2021-06-27T04:44:47.558282Z",
     "iopub.status.idle": "2021-06-27T04:44:49.240166Z",
     "shell.execute_reply": "2021-06-27T04:44:49.239166Z",
     "shell.execute_reply.started": "2021-06-27T04:44:47.558282Z"
    }
   },
   "outputs": [],
   "source": [
    "import pandas as pd\n",
    "import numpy as np"
   ]
  },
  {
   "cell_type": "code",
   "execution_count": 2,
   "id": "multiple-director",
   "metadata": {
    "execution": {
     "iopub.execute_input": "2021-06-27T04:45:12.339441Z",
     "iopub.status.busy": "2021-06-27T04:45:12.339441Z",
     "iopub.status.idle": "2021-06-27T04:45:12.349443Z",
     "shell.execute_reply": "2021-06-27T04:45:12.348443Z",
     "shell.execute_reply.started": "2021-06-27T04:45:12.339441Z"
    }
   },
   "outputs": [
    {
     "name": "stdout",
     "output_type": "stream",
     "text": [
      "Hello Capstone Project Course\n"
     ]
    }
   ],
   "source": [
    "print(\"Hello Capstone Project Course\")"
   ]
  },
  {
   "cell_type": "code",
   "execution_count": null,
   "id": "included-helicopter",
   "metadata": {},
   "outputs": [],
   "source": []
  }
 ],
 "metadata": {
  "kernelspec": {
   "display_name": "Python 3",
   "language": "python",
   "name": "python3"
  },
  "language_info": {
   "codemirror_mode": {
    "name": "ipython",
    "version": 3
   },
   "file_extension": ".py",
   "mimetype": "text/x-python",
   "name": "python",
   "nbconvert_exporter": "python",
   "pygments_lexer": "ipython3",
   "version": "3.8.8"
  }
 },
 "nbformat": 4,
 "nbformat_minor": 5
}
